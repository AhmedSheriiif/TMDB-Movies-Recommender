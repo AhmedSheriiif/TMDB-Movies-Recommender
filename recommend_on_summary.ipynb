{
 "cells": [
  {
   "cell_type": "code",
   "execution_count": null,
   "metadata": {
    "pycharm": {
     "name": "#%%\n",
     "is_executing": true
    }
   },
   "outputs": [],
   "source": [
    "import numpy as np\n",
    "import pandas as pd"
   ]
  },
  {
   "cell_type": "code",
   "execution_count": 2,
   "metadata": {
    "pycharm": {
     "name": "#%%\n"
    }
   },
   "outputs": [],
   "source": [
    "# Reading the Data\n",
    "credits = pd.read_csv('tmdb_5000_credits.csv')\n",
    "movies = pd.read_csv('tmdb_5000_movies.csv')"
   ]
  },
  {
   "cell_type": "code",
   "execution_count": 3,
   "metadata": {
    "pycharm": {
     "name": "#%%\n"
    }
   },
   "outputs": [
    {
     "data": {
      "text/plain": "   movie_id                                     title  \\\n0     19995                                    Avatar   \n1       285  Pirates of the Caribbean: At World's End   \n2    206647                                   Spectre   \n3     49026                     The Dark Knight Rises   \n4     49529                               John Carter   \n\n                                                cast  \\\n0  [{\"cast_id\": 242, \"character\": \"Jake Sully\", \"...   \n1  [{\"cast_id\": 4, \"character\": \"Captain Jack Spa...   \n2  [{\"cast_id\": 1, \"character\": \"James Bond\", \"cr...   \n3  [{\"cast_id\": 2, \"character\": \"Bruce Wayne / Ba...   \n4  [{\"cast_id\": 5, \"character\": \"John Carter\", \"c...   \n\n                                                crew  \n0  [{\"credit_id\": \"52fe48009251416c750aca23\", \"de...  \n1  [{\"credit_id\": \"52fe4232c3a36847f800b579\", \"de...  \n2  [{\"credit_id\": \"54805967c3a36829b5002c41\", \"de...  \n3  [{\"credit_id\": \"52fe4781c3a36847f81398c3\", \"de...  \n4  [{\"credit_id\": \"52fe479ac3a36847f813eaa3\", \"de...  ",
      "text/html": "<div>\n<style scoped>\n    .dataframe tbody tr th:only-of-type {\n        vertical-align: middle;\n    }\n\n    .dataframe tbody tr th {\n        vertical-align: top;\n    }\n\n    .dataframe thead th {\n        text-align: right;\n    }\n</style>\n<table border=\"1\" class=\"dataframe\">\n  <thead>\n    <tr style=\"text-align: right;\">\n      <th></th>\n      <th>movie_id</th>\n      <th>title</th>\n      <th>cast</th>\n      <th>crew</th>\n    </tr>\n  </thead>\n  <tbody>\n    <tr>\n      <th>0</th>\n      <td>19995</td>\n      <td>Avatar</td>\n      <td>[{\"cast_id\": 242, \"character\": \"Jake Sully\", \"...</td>\n      <td>[{\"credit_id\": \"52fe48009251416c750aca23\", \"de...</td>\n    </tr>\n    <tr>\n      <th>1</th>\n      <td>285</td>\n      <td>Pirates of the Caribbean: At World's End</td>\n      <td>[{\"cast_id\": 4, \"character\": \"Captain Jack Spa...</td>\n      <td>[{\"credit_id\": \"52fe4232c3a36847f800b579\", \"de...</td>\n    </tr>\n    <tr>\n      <th>2</th>\n      <td>206647</td>\n      <td>Spectre</td>\n      <td>[{\"cast_id\": 1, \"character\": \"James Bond\", \"cr...</td>\n      <td>[{\"credit_id\": \"54805967c3a36829b5002c41\", \"de...</td>\n    </tr>\n    <tr>\n      <th>3</th>\n      <td>49026</td>\n      <td>The Dark Knight Rises</td>\n      <td>[{\"cast_id\": 2, \"character\": \"Bruce Wayne / Ba...</td>\n      <td>[{\"credit_id\": \"52fe4781c3a36847f81398c3\", \"de...</td>\n    </tr>\n    <tr>\n      <th>4</th>\n      <td>49529</td>\n      <td>John Carter</td>\n      <td>[{\"cast_id\": 5, \"character\": \"John Carter\", \"c...</td>\n      <td>[{\"credit_id\": \"52fe479ac3a36847f813eaa3\", \"de...</td>\n    </tr>\n  </tbody>\n</table>\n</div>"
     },
     "execution_count": 3,
     "metadata": {},
     "output_type": "execute_result"
    }
   ],
   "source": [
    "# Data Pre processing\n",
    "credits.head()"
   ]
  },
  {
   "cell_type": "code",
   "execution_count": 4,
   "metadata": {
    "pycharm": {
     "name": "#%%\n"
    }
   },
   "outputs": [
    {
     "data": {
      "text/plain": "      budget                                             genres  \\\n0  237000000  [{\"id\": 28, \"name\": \"Action\"}, {\"id\": 12, \"nam...   \n1  300000000  [{\"id\": 12, \"name\": \"Adventure\"}, {\"id\": 14, \"...   \n2  245000000  [{\"id\": 28, \"name\": \"Action\"}, {\"id\": 12, \"nam...   \n3  250000000  [{\"id\": 28, \"name\": \"Action\"}, {\"id\": 80, \"nam...   \n4  260000000  [{\"id\": 28, \"name\": \"Action\"}, {\"id\": 12, \"nam...   \n\n                                       homepage      id  \\\n0                   http://www.avatarmovie.com/   19995   \n1  http://disney.go.com/disneypictures/pirates/     285   \n2   http://www.sonypictures.com/movies/spectre/  206647   \n3            http://www.thedarkknightrises.com/   49026   \n4          http://movies.disney.com/john-carter   49529   \n\n                                            keywords original_language  \\\n0  [{\"id\": 1463, \"name\": \"culture clash\"}, {\"id\":...                en   \n1  [{\"id\": 270, \"name\": \"ocean\"}, {\"id\": 726, \"na...                en   \n2  [{\"id\": 470, \"name\": \"spy\"}, {\"id\": 818, \"name...                en   \n3  [{\"id\": 849, \"name\": \"dc comics\"}, {\"id\": 853,...                en   \n4  [{\"id\": 818, \"name\": \"based on novel\"}, {\"id\":...                en   \n\n                             original_title  \\\n0                                    Avatar   \n1  Pirates of the Caribbean: At World's End   \n2                                   Spectre   \n3                     The Dark Knight Rises   \n4                               John Carter   \n\n                                            overview  popularity  \\\n0  In the 22nd century, a paraplegic Marine is di...  150.437577   \n1  Captain Barbossa, long believed to be dead, ha...  139.082615   \n2  A cryptic message from Bond’s past sends him o...  107.376788   \n3  Following the death of District Attorney Harve...  112.312950   \n4  John Carter is a war-weary, former military ca...   43.926995   \n\n                                production_companies  \\\n0  [{\"name\": \"Ingenious Film Partners\", \"id\": 289...   \n1  [{\"name\": \"Walt Disney Pictures\", \"id\": 2}, {\"...   \n2  [{\"name\": \"Columbia Pictures\", \"id\": 5}, {\"nam...   \n3  [{\"name\": \"Legendary Pictures\", \"id\": 923}, {\"...   \n4        [{\"name\": \"Walt Disney Pictures\", \"id\": 2}]   \n\n                                production_countries release_date     revenue  \\\n0  [{\"iso_3166_1\": \"US\", \"name\": \"United States o...   2009-12-10  2787965087   \n1  [{\"iso_3166_1\": \"US\", \"name\": \"United States o...   2007-05-19   961000000   \n2  [{\"iso_3166_1\": \"GB\", \"name\": \"United Kingdom\"...   2015-10-26   880674609   \n3  [{\"iso_3166_1\": \"US\", \"name\": \"United States o...   2012-07-16  1084939099   \n4  [{\"iso_3166_1\": \"US\", \"name\": \"United States o...   2012-03-07   284139100   \n\n   runtime                                   spoken_languages    status  \\\n0    162.0  [{\"iso_639_1\": \"en\", \"name\": \"English\"}, {\"iso...  Released   \n1    169.0           [{\"iso_639_1\": \"en\", \"name\": \"English\"}]  Released   \n2    148.0  [{\"iso_639_1\": \"fr\", \"name\": \"Fran\\u00e7ais\"},...  Released   \n3    165.0           [{\"iso_639_1\": \"en\", \"name\": \"English\"}]  Released   \n4    132.0           [{\"iso_639_1\": \"en\", \"name\": \"English\"}]  Released   \n\n                                          tagline  \\\n0                     Enter the World of Pandora.   \n1  At the end of the world, the adventure begins.   \n2                           A Plan No One Escapes   \n3                                 The Legend Ends   \n4            Lost in our world, found in another.   \n\n                                      title  vote_average  vote_count  \n0                                    Avatar           7.2       11800  \n1  Pirates of the Caribbean: At World's End           6.9        4500  \n2                                   Spectre           6.3        4466  \n3                     The Dark Knight Rises           7.6        9106  \n4                               John Carter           6.1        2124  ",
      "text/html": "<div>\n<style scoped>\n    .dataframe tbody tr th:only-of-type {\n        vertical-align: middle;\n    }\n\n    .dataframe tbody tr th {\n        vertical-align: top;\n    }\n\n    .dataframe thead th {\n        text-align: right;\n    }\n</style>\n<table border=\"1\" class=\"dataframe\">\n  <thead>\n    <tr style=\"text-align: right;\">\n      <th></th>\n      <th>budget</th>\n      <th>genres</th>\n      <th>homepage</th>\n      <th>id</th>\n      <th>keywords</th>\n      <th>original_language</th>\n      <th>original_title</th>\n      <th>overview</th>\n      <th>popularity</th>\n      <th>production_companies</th>\n      <th>production_countries</th>\n      <th>release_date</th>\n      <th>revenue</th>\n      <th>runtime</th>\n      <th>spoken_languages</th>\n      <th>status</th>\n      <th>tagline</th>\n      <th>title</th>\n      <th>vote_average</th>\n      <th>vote_count</th>\n    </tr>\n  </thead>\n  <tbody>\n    <tr>\n      <th>0</th>\n      <td>237000000</td>\n      <td>[{\"id\": 28, \"name\": \"Action\"}, {\"id\": 12, \"nam...</td>\n      <td>http://www.avatarmovie.com/</td>\n      <td>19995</td>\n      <td>[{\"id\": 1463, \"name\": \"culture clash\"}, {\"id\":...</td>\n      <td>en</td>\n      <td>Avatar</td>\n      <td>In the 22nd century, a paraplegic Marine is di...</td>\n      <td>150.437577</td>\n      <td>[{\"name\": \"Ingenious Film Partners\", \"id\": 289...</td>\n      <td>[{\"iso_3166_1\": \"US\", \"name\": \"United States o...</td>\n      <td>2009-12-10</td>\n      <td>2787965087</td>\n      <td>162.0</td>\n      <td>[{\"iso_639_1\": \"en\", \"name\": \"English\"}, {\"iso...</td>\n      <td>Released</td>\n      <td>Enter the World of Pandora.</td>\n      <td>Avatar</td>\n      <td>7.2</td>\n      <td>11800</td>\n    </tr>\n    <tr>\n      <th>1</th>\n      <td>300000000</td>\n      <td>[{\"id\": 12, \"name\": \"Adventure\"}, {\"id\": 14, \"...</td>\n      <td>http://disney.go.com/disneypictures/pirates/</td>\n      <td>285</td>\n      <td>[{\"id\": 270, \"name\": \"ocean\"}, {\"id\": 726, \"na...</td>\n      <td>en</td>\n      <td>Pirates of the Caribbean: At World's End</td>\n      <td>Captain Barbossa, long believed to be dead, ha...</td>\n      <td>139.082615</td>\n      <td>[{\"name\": \"Walt Disney Pictures\", \"id\": 2}, {\"...</td>\n      <td>[{\"iso_3166_1\": \"US\", \"name\": \"United States o...</td>\n      <td>2007-05-19</td>\n      <td>961000000</td>\n      <td>169.0</td>\n      <td>[{\"iso_639_1\": \"en\", \"name\": \"English\"}]</td>\n      <td>Released</td>\n      <td>At the end of the world, the adventure begins.</td>\n      <td>Pirates of the Caribbean: At World's End</td>\n      <td>6.9</td>\n      <td>4500</td>\n    </tr>\n    <tr>\n      <th>2</th>\n      <td>245000000</td>\n      <td>[{\"id\": 28, \"name\": \"Action\"}, {\"id\": 12, \"nam...</td>\n      <td>http://www.sonypictures.com/movies/spectre/</td>\n      <td>206647</td>\n      <td>[{\"id\": 470, \"name\": \"spy\"}, {\"id\": 818, \"name...</td>\n      <td>en</td>\n      <td>Spectre</td>\n      <td>A cryptic message from Bond’s past sends him o...</td>\n      <td>107.376788</td>\n      <td>[{\"name\": \"Columbia Pictures\", \"id\": 5}, {\"nam...</td>\n      <td>[{\"iso_3166_1\": \"GB\", \"name\": \"United Kingdom\"...</td>\n      <td>2015-10-26</td>\n      <td>880674609</td>\n      <td>148.0</td>\n      <td>[{\"iso_639_1\": \"fr\", \"name\": \"Fran\\u00e7ais\"},...</td>\n      <td>Released</td>\n      <td>A Plan No One Escapes</td>\n      <td>Spectre</td>\n      <td>6.3</td>\n      <td>4466</td>\n    </tr>\n    <tr>\n      <th>3</th>\n      <td>250000000</td>\n      <td>[{\"id\": 28, \"name\": \"Action\"}, {\"id\": 80, \"nam...</td>\n      <td>http://www.thedarkknightrises.com/</td>\n      <td>49026</td>\n      <td>[{\"id\": 849, \"name\": \"dc comics\"}, {\"id\": 853,...</td>\n      <td>en</td>\n      <td>The Dark Knight Rises</td>\n      <td>Following the death of District Attorney Harve...</td>\n      <td>112.312950</td>\n      <td>[{\"name\": \"Legendary Pictures\", \"id\": 923}, {\"...</td>\n      <td>[{\"iso_3166_1\": \"US\", \"name\": \"United States o...</td>\n      <td>2012-07-16</td>\n      <td>1084939099</td>\n      <td>165.0</td>\n      <td>[{\"iso_639_1\": \"en\", \"name\": \"English\"}]</td>\n      <td>Released</td>\n      <td>The Legend Ends</td>\n      <td>The Dark Knight Rises</td>\n      <td>7.6</td>\n      <td>9106</td>\n    </tr>\n    <tr>\n      <th>4</th>\n      <td>260000000</td>\n      <td>[{\"id\": 28, \"name\": \"Action\"}, {\"id\": 12, \"nam...</td>\n      <td>http://movies.disney.com/john-carter</td>\n      <td>49529</td>\n      <td>[{\"id\": 818, \"name\": \"based on novel\"}, {\"id\":...</td>\n      <td>en</td>\n      <td>John Carter</td>\n      <td>John Carter is a war-weary, former military ca...</td>\n      <td>43.926995</td>\n      <td>[{\"name\": \"Walt Disney Pictures\", \"id\": 2}]</td>\n      <td>[{\"iso_3166_1\": \"US\", \"name\": \"United States o...</td>\n      <td>2012-03-07</td>\n      <td>284139100</td>\n      <td>132.0</td>\n      <td>[{\"iso_639_1\": \"en\", \"name\": \"English\"}]</td>\n      <td>Released</td>\n      <td>Lost in our world, found in another.</td>\n      <td>John Carter</td>\n      <td>6.1</td>\n      <td>2124</td>\n    </tr>\n  </tbody>\n</table>\n</div>"
     },
     "execution_count": 4,
     "metadata": {},
     "output_type": "execute_result"
    }
   ],
   "source": [
    "movies.head()"
   ]
  },
  {
   "cell_type": "markdown",
   "metadata": {
    "pycharm": {
     "name": "#%% md\n"
    }
   },
   "source": [
    "The first dataset contains the following features:-\n",
    "\n",
    "movie_id - A unique identifier for each movie.\n",
    "cast - The name of lead and supporting actors.\n",
    "crew - The name of Director, Editor, Composer, Writer etc.\n",
    "The second dataset has the following features:-\n",
    "\n",
    "budget - The budget in which the movie was made.\n",
    "genre - The genre of the movie, Action, Comedy ,Thriller etc.\n",
    "homepage - A link to the homepage of the movie.\n",
    "id - This is infact the movie_id as in the first dataset.\n",
    "keywords - The keywords or tags related to the movie.\n",
    "original_language - The language in which the movie was made.\n",
    "original_title - The title of the movie before translation or adaptation.\n",
    "overview - A brief description of the movie.\n",
    "popularity - A numeric quantity specifying the movie popularity.\n",
    "production_companies - The production house of the movie.\n",
    "production_countries - The country in which it was produced.\n",
    "release_date - The date on which it was released.\n",
    "revenue - The worldwide revenue generated by the movie.\n",
    "runtime - The running time of the movie in minutes.\n",
    "status - \"Released\" or \"Rumored\".\n",
    "tagline - Movie's tagline.\n",
    "title - Title of the movie.\n",
    "vote_average - average ratings the movie recieved.\n",
    "vote_count - the count of votes recieved."
   ]
  },
  {
   "cell_type": "code",
   "execution_count": 5,
   "metadata": {
    "pycharm": {
     "name": "#%%\n"
    }
   },
   "outputs": [
    {
     "name": "stdout",
     "output_type": "stream",
     "text": [
      "Credits Data Shape: (4803, 4)\n",
      "Movies Data Shape: (4803, 20)\n"
     ]
    }
   ],
   "source": [
    "print(f'Credits Data Shape: {credits.shape}')\n",
    "print(f'Movies Data Shape: {movies.shape}')"
   ]
  },
  {
   "cell_type": "code",
   "execution_count": 6,
   "metadata": {
    "pycharm": {
     "name": "#%%\n"
    }
   },
   "outputs": [
    {
     "data": {
      "text/plain": "       id                                     title  \\\n0   19995                                    Avatar   \n1     285  Pirates of the Caribbean: At World's End   \n2  206647                                   Spectre   \n\n                                                cast  \\\n0  [{\"cast_id\": 242, \"character\": \"Jake Sully\", \"...   \n1  [{\"cast_id\": 4, \"character\": \"Captain Jack Spa...   \n2  [{\"cast_id\": 1, \"character\": \"James Bond\", \"cr...   \n\n                                                crew  \n0  [{\"credit_id\": \"52fe48009251416c750aca23\", \"de...  \n1  [{\"credit_id\": \"52fe4232c3a36847f800b579\", \"de...  \n2  [{\"credit_id\": \"54805967c3a36829b5002c41\", \"de...  ",
      "text/html": "<div>\n<style scoped>\n    .dataframe tbody tr th:only-of-type {\n        vertical-align: middle;\n    }\n\n    .dataframe tbody tr th {\n        vertical-align: top;\n    }\n\n    .dataframe thead th {\n        text-align: right;\n    }\n</style>\n<table border=\"1\" class=\"dataframe\">\n  <thead>\n    <tr style=\"text-align: right;\">\n      <th></th>\n      <th>id</th>\n      <th>title</th>\n      <th>cast</th>\n      <th>crew</th>\n    </tr>\n  </thead>\n  <tbody>\n    <tr>\n      <th>0</th>\n      <td>19995</td>\n      <td>Avatar</td>\n      <td>[{\"cast_id\": 242, \"character\": \"Jake Sully\", \"...</td>\n      <td>[{\"credit_id\": \"52fe48009251416c750aca23\", \"de...</td>\n    </tr>\n    <tr>\n      <th>1</th>\n      <td>285</td>\n      <td>Pirates of the Caribbean: At World's End</td>\n      <td>[{\"cast_id\": 4, \"character\": \"Captain Jack Spa...</td>\n      <td>[{\"credit_id\": \"52fe4232c3a36847f800b579\", \"de...</td>\n    </tr>\n    <tr>\n      <th>2</th>\n      <td>206647</td>\n      <td>Spectre</td>\n      <td>[{\"cast_id\": 1, \"character\": \"James Bond\", \"cr...</td>\n      <td>[{\"credit_id\": \"54805967c3a36829b5002c41\", \"de...</td>\n    </tr>\n  </tbody>\n</table>\n</div>"
     },
     "execution_count": 6,
     "metadata": {},
     "output_type": "execute_result"
    }
   ],
   "source": [
    "credits = credits.rename(index=str, columns={\"movie_id\": \"id\"})\n",
    "credits.head(3)"
   ]
  },
  {
   "cell_type": "code",
   "execution_count": 7,
   "metadata": {
    "pycharm": {
     "name": "#%%\n"
    }
   },
   "outputs": [
    {
     "data": {
      "text/plain": "      budget                                             genres  \\\n0  237000000  [{\"id\": 28, \"name\": \"Action\"}, {\"id\": 12, \"nam...   \n1  300000000  [{\"id\": 12, \"name\": \"Adventure\"}, {\"id\": 14, \"...   \n2  245000000  [{\"id\": 28, \"name\": \"Action\"}, {\"id\": 12, \"nam...   \n3  250000000  [{\"id\": 28, \"name\": \"Action\"}, {\"id\": 80, \"nam...   \n4  260000000  [{\"id\": 28, \"name\": \"Action\"}, {\"id\": 12, \"nam...   \n\n                                       homepage      id  \\\n0                   http://www.avatarmovie.com/   19995   \n1  http://disney.go.com/disneypictures/pirates/     285   \n2   http://www.sonypictures.com/movies/spectre/  206647   \n3            http://www.thedarkknightrises.com/   49026   \n4          http://movies.disney.com/john-carter   49529   \n\n                                            keywords original_language  \\\n0  [{\"id\": 1463, \"name\": \"culture clash\"}, {\"id\":...                en   \n1  [{\"id\": 270, \"name\": \"ocean\"}, {\"id\": 726, \"na...                en   \n2  [{\"id\": 470, \"name\": \"spy\"}, {\"id\": 818, \"name...                en   \n3  [{\"id\": 849, \"name\": \"dc comics\"}, {\"id\": 853,...                en   \n4  [{\"id\": 818, \"name\": \"based on novel\"}, {\"id\":...                en   \n\n                             original_title  \\\n0                                    Avatar   \n1  Pirates of the Caribbean: At World's End   \n2                                   Spectre   \n3                     The Dark Knight Rises   \n4                               John Carter   \n\n                                            overview  popularity  \\\n0  In the 22nd century, a paraplegic Marine is di...  150.437577   \n1  Captain Barbossa, long believed to be dead, ha...  139.082615   \n2  A cryptic message from Bond’s past sends him o...  107.376788   \n3  Following the death of District Attorney Harve...  112.312950   \n4  John Carter is a war-weary, former military ca...   43.926995   \n\n                                production_companies  ... runtime  \\\n0  [{\"name\": \"Ingenious Film Partners\", \"id\": 289...  ...   162.0   \n1  [{\"name\": \"Walt Disney Pictures\", \"id\": 2}, {\"...  ...   169.0   \n2  [{\"name\": \"Columbia Pictures\", \"id\": 5}, {\"nam...  ...   148.0   \n3  [{\"name\": \"Legendary Pictures\", \"id\": 923}, {\"...  ...   165.0   \n4        [{\"name\": \"Walt Disney Pictures\", \"id\": 2}]  ...   132.0   \n\n                                    spoken_languages    status  \\\n0  [{\"iso_639_1\": \"en\", \"name\": \"English\"}, {\"iso...  Released   \n1           [{\"iso_639_1\": \"en\", \"name\": \"English\"}]  Released   \n2  [{\"iso_639_1\": \"fr\", \"name\": \"Fran\\u00e7ais\"},...  Released   \n3           [{\"iso_639_1\": \"en\", \"name\": \"English\"}]  Released   \n4           [{\"iso_639_1\": \"en\", \"name\": \"English\"}]  Released   \n\n                                          tagline  \\\n0                     Enter the World of Pandora.   \n1  At the end of the world, the adventure begins.   \n2                           A Plan No One Escapes   \n3                                 The Legend Ends   \n4            Lost in our world, found in another.   \n\n                                    title_x vote_average vote_count  \\\n0                                    Avatar          7.2      11800   \n1  Pirates of the Caribbean: At World's End          6.9       4500   \n2                                   Spectre          6.3       4466   \n3                     The Dark Knight Rises          7.6       9106   \n4                               John Carter          6.1       2124   \n\n                                    title_y  \\\n0                                    Avatar   \n1  Pirates of the Caribbean: At World's End   \n2                                   Spectre   \n3                     The Dark Knight Rises   \n4                               John Carter   \n\n                                                cast  \\\n0  [{\"cast_id\": 242, \"character\": \"Jake Sully\", \"...   \n1  [{\"cast_id\": 4, \"character\": \"Captain Jack Spa...   \n2  [{\"cast_id\": 1, \"character\": \"James Bond\", \"cr...   \n3  [{\"cast_id\": 2, \"character\": \"Bruce Wayne / Ba...   \n4  [{\"cast_id\": 5, \"character\": \"John Carter\", \"c...   \n\n                                                crew  \n0  [{\"credit_id\": \"52fe48009251416c750aca23\", \"de...  \n1  [{\"credit_id\": \"52fe4232c3a36847f800b579\", \"de...  \n2  [{\"credit_id\": \"54805967c3a36829b5002c41\", \"de...  \n3  [{\"credit_id\": \"52fe4781c3a36847f81398c3\", \"de...  \n4  [{\"credit_id\": \"52fe479ac3a36847f813eaa3\", \"de...  \n\n[5 rows x 23 columns]",
      "text/html": "<div>\n<style scoped>\n    .dataframe tbody tr th:only-of-type {\n        vertical-align: middle;\n    }\n\n    .dataframe tbody tr th {\n        vertical-align: top;\n    }\n\n    .dataframe thead th {\n        text-align: right;\n    }\n</style>\n<table border=\"1\" class=\"dataframe\">\n  <thead>\n    <tr style=\"text-align: right;\">\n      <th></th>\n      <th>budget</th>\n      <th>genres</th>\n      <th>homepage</th>\n      <th>id</th>\n      <th>keywords</th>\n      <th>original_language</th>\n      <th>original_title</th>\n      <th>overview</th>\n      <th>popularity</th>\n      <th>production_companies</th>\n      <th>...</th>\n      <th>runtime</th>\n      <th>spoken_languages</th>\n      <th>status</th>\n      <th>tagline</th>\n      <th>title_x</th>\n      <th>vote_average</th>\n      <th>vote_count</th>\n      <th>title_y</th>\n      <th>cast</th>\n      <th>crew</th>\n    </tr>\n  </thead>\n  <tbody>\n    <tr>\n      <th>0</th>\n      <td>237000000</td>\n      <td>[{\"id\": 28, \"name\": \"Action\"}, {\"id\": 12, \"nam...</td>\n      <td>http://www.avatarmovie.com/</td>\n      <td>19995</td>\n      <td>[{\"id\": 1463, \"name\": \"culture clash\"}, {\"id\":...</td>\n      <td>en</td>\n      <td>Avatar</td>\n      <td>In the 22nd century, a paraplegic Marine is di...</td>\n      <td>150.437577</td>\n      <td>[{\"name\": \"Ingenious Film Partners\", \"id\": 289...</td>\n      <td>...</td>\n      <td>162.0</td>\n      <td>[{\"iso_639_1\": \"en\", \"name\": \"English\"}, {\"iso...</td>\n      <td>Released</td>\n      <td>Enter the World of Pandora.</td>\n      <td>Avatar</td>\n      <td>7.2</td>\n      <td>11800</td>\n      <td>Avatar</td>\n      <td>[{\"cast_id\": 242, \"character\": \"Jake Sully\", \"...</td>\n      <td>[{\"credit_id\": \"52fe48009251416c750aca23\", \"de...</td>\n    </tr>\n    <tr>\n      <th>1</th>\n      <td>300000000</td>\n      <td>[{\"id\": 12, \"name\": \"Adventure\"}, {\"id\": 14, \"...</td>\n      <td>http://disney.go.com/disneypictures/pirates/</td>\n      <td>285</td>\n      <td>[{\"id\": 270, \"name\": \"ocean\"}, {\"id\": 726, \"na...</td>\n      <td>en</td>\n      <td>Pirates of the Caribbean: At World's End</td>\n      <td>Captain Barbossa, long believed to be dead, ha...</td>\n      <td>139.082615</td>\n      <td>[{\"name\": \"Walt Disney Pictures\", \"id\": 2}, {\"...</td>\n      <td>...</td>\n      <td>169.0</td>\n      <td>[{\"iso_639_1\": \"en\", \"name\": \"English\"}]</td>\n      <td>Released</td>\n      <td>At the end of the world, the adventure begins.</td>\n      <td>Pirates of the Caribbean: At World's End</td>\n      <td>6.9</td>\n      <td>4500</td>\n      <td>Pirates of the Caribbean: At World's End</td>\n      <td>[{\"cast_id\": 4, \"character\": \"Captain Jack Spa...</td>\n      <td>[{\"credit_id\": \"52fe4232c3a36847f800b579\", \"de...</td>\n    </tr>\n    <tr>\n      <th>2</th>\n      <td>245000000</td>\n      <td>[{\"id\": 28, \"name\": \"Action\"}, {\"id\": 12, \"nam...</td>\n      <td>http://www.sonypictures.com/movies/spectre/</td>\n      <td>206647</td>\n      <td>[{\"id\": 470, \"name\": \"spy\"}, {\"id\": 818, \"name...</td>\n      <td>en</td>\n      <td>Spectre</td>\n      <td>A cryptic message from Bond’s past sends him o...</td>\n      <td>107.376788</td>\n      <td>[{\"name\": \"Columbia Pictures\", \"id\": 5}, {\"nam...</td>\n      <td>...</td>\n      <td>148.0</td>\n      <td>[{\"iso_639_1\": \"fr\", \"name\": \"Fran\\u00e7ais\"},...</td>\n      <td>Released</td>\n      <td>A Plan No One Escapes</td>\n      <td>Spectre</td>\n      <td>6.3</td>\n      <td>4466</td>\n      <td>Spectre</td>\n      <td>[{\"cast_id\": 1, \"character\": \"James Bond\", \"cr...</td>\n      <td>[{\"credit_id\": \"54805967c3a36829b5002c41\", \"de...</td>\n    </tr>\n    <tr>\n      <th>3</th>\n      <td>250000000</td>\n      <td>[{\"id\": 28, \"name\": \"Action\"}, {\"id\": 80, \"nam...</td>\n      <td>http://www.thedarkknightrises.com/</td>\n      <td>49026</td>\n      <td>[{\"id\": 849, \"name\": \"dc comics\"}, {\"id\": 853,...</td>\n      <td>en</td>\n      <td>The Dark Knight Rises</td>\n      <td>Following the death of District Attorney Harve...</td>\n      <td>112.312950</td>\n      <td>[{\"name\": \"Legendary Pictures\", \"id\": 923}, {\"...</td>\n      <td>...</td>\n      <td>165.0</td>\n      <td>[{\"iso_639_1\": \"en\", \"name\": \"English\"}]</td>\n      <td>Released</td>\n      <td>The Legend Ends</td>\n      <td>The Dark Knight Rises</td>\n      <td>7.6</td>\n      <td>9106</td>\n      <td>The Dark Knight Rises</td>\n      <td>[{\"cast_id\": 2, \"character\": \"Bruce Wayne / Ba...</td>\n      <td>[{\"credit_id\": \"52fe4781c3a36847f81398c3\", \"de...</td>\n    </tr>\n    <tr>\n      <th>4</th>\n      <td>260000000</td>\n      <td>[{\"id\": 28, \"name\": \"Action\"}, {\"id\": 12, \"nam...</td>\n      <td>http://movies.disney.com/john-carter</td>\n      <td>49529</td>\n      <td>[{\"id\": 818, \"name\": \"based on novel\"}, {\"id\":...</td>\n      <td>en</td>\n      <td>John Carter</td>\n      <td>John Carter is a war-weary, former military ca...</td>\n      <td>43.926995</td>\n      <td>[{\"name\": \"Walt Disney Pictures\", \"id\": 2}]</td>\n      <td>...</td>\n      <td>132.0</td>\n      <td>[{\"iso_639_1\": \"en\", \"name\": \"English\"}]</td>\n      <td>Released</td>\n      <td>Lost in our world, found in another.</td>\n      <td>John Carter</td>\n      <td>6.1</td>\n      <td>2124</td>\n      <td>John Carter</td>\n      <td>[{\"cast_id\": 5, \"character\": \"John Carter\", \"c...</td>\n      <td>[{\"credit_id\": \"52fe479ac3a36847f813eaa3\", \"de...</td>\n    </tr>\n  </tbody>\n</table>\n<p>5 rows × 23 columns</p>\n</div>"
     },
     "execution_count": 7,
     "metadata": {},
     "output_type": "execute_result"
    }
   ],
   "source": [
    "# Merging the Data\n",
    "df_merge = movies.merge(credits, on='id')\n",
    "df_merge.head()"
   ]
  },
  {
   "cell_type": "code",
   "execution_count": 8,
   "metadata": {
    "pycharm": {
     "name": "#%%\n"
    }
   },
   "outputs": [
    {
     "name": "stdout",
     "output_type": "stream",
     "text": [
      "Merge Data Shape: (4803, 23)\n"
     ]
    }
   ],
   "source": [
    "print(f'Merge Data Shape: {df_merge.shape}')"
   ]
  },
  {
   "cell_type": "code",
   "execution_count": 9,
   "metadata": {
    "pycharm": {
     "name": "#%%\n"
    }
   },
   "outputs": [
    {
     "data": {
      "text/plain": "      budget                                             genres      id  \\\n0  237000000  [{\"id\": 28, \"name\": \"Action\"}, {\"id\": 12, \"nam...   19995   \n1  300000000  [{\"id\": 12, \"name\": \"Adventure\"}, {\"id\": 14, \"...     285   \n2  245000000  [{\"id\": 28, \"name\": \"Action\"}, {\"id\": 12, \"nam...  206647   \n3  250000000  [{\"id\": 28, \"name\": \"Action\"}, {\"id\": 80, \"nam...   49026   \n4  260000000  [{\"id\": 28, \"name\": \"Action\"}, {\"id\": 12, \"nam...   49529   \n\n                                            keywords original_language  \\\n0  [{\"id\": 1463, \"name\": \"culture clash\"}, {\"id\":...                en   \n1  [{\"id\": 270, \"name\": \"ocean\"}, {\"id\": 726, \"na...                en   \n2  [{\"id\": 470, \"name\": \"spy\"}, {\"id\": 818, \"name...                en   \n3  [{\"id\": 849, \"name\": \"dc comics\"}, {\"id\": 853,...                en   \n4  [{\"id\": 818, \"name\": \"based on novel\"}, {\"id\":...                en   \n\n                             original_title  \\\n0                                    Avatar   \n1  Pirates of the Caribbean: At World's End   \n2                                   Spectre   \n3                     The Dark Knight Rises   \n4                               John Carter   \n\n                                            overview  popularity  \\\n0  In the 22nd century, a paraplegic Marine is di...  150.437577   \n1  Captain Barbossa, long believed to be dead, ha...  139.082615   \n2  A cryptic message from Bond’s past sends him o...  107.376788   \n3  Following the death of District Attorney Harve...  112.312950   \n4  John Carter is a war-weary, former military ca...   43.926995   \n\n                                production_companies release_date     revenue  \\\n0  [{\"name\": \"Ingenious Film Partners\", \"id\": 289...   2009-12-10  2787965087   \n1  [{\"name\": \"Walt Disney Pictures\", \"id\": 2}, {\"...   2007-05-19   961000000   \n2  [{\"name\": \"Columbia Pictures\", \"id\": 5}, {\"nam...   2015-10-26   880674609   \n3  [{\"name\": \"Legendary Pictures\", \"id\": 923}, {\"...   2012-07-16  1084939099   \n4        [{\"name\": \"Walt Disney Pictures\", \"id\": 2}]   2012-03-07   284139100   \n\n   runtime                                   spoken_languages  \\\n0    162.0  [{\"iso_639_1\": \"en\", \"name\": \"English\"}, {\"iso...   \n1    169.0           [{\"iso_639_1\": \"en\", \"name\": \"English\"}]   \n2    148.0  [{\"iso_639_1\": \"fr\", \"name\": \"Fran\\u00e7ais\"},...   \n3    165.0           [{\"iso_639_1\": \"en\", \"name\": \"English\"}]   \n4    132.0           [{\"iso_639_1\": \"en\", \"name\": \"English\"}]   \n\n                                          tagline  vote_average  vote_count  \\\n0                     Enter the World of Pandora.           7.2       11800   \n1  At the end of the world, the adventure begins.           6.9        4500   \n2                           A Plan No One Escapes           6.3        4466   \n3                                 The Legend Ends           7.6        9106   \n4            Lost in our world, found in another.           6.1        2124   \n\n                                                cast  \\\n0  [{\"cast_id\": 242, \"character\": \"Jake Sully\", \"...   \n1  [{\"cast_id\": 4, \"character\": \"Captain Jack Spa...   \n2  [{\"cast_id\": 1, \"character\": \"James Bond\", \"cr...   \n3  [{\"cast_id\": 2, \"character\": \"Bruce Wayne / Ba...   \n4  [{\"cast_id\": 5, \"character\": \"John Carter\", \"c...   \n\n                                                crew  \n0  [{\"credit_id\": \"52fe48009251416c750aca23\", \"de...  \n1  [{\"credit_id\": \"52fe4232c3a36847f800b579\", \"de...  \n2  [{\"credit_id\": \"54805967c3a36829b5002c41\", \"de...  \n3  [{\"credit_id\": \"52fe4781c3a36847f81398c3\", \"de...  \n4  [{\"credit_id\": \"52fe479ac3a36847f813eaa3\", \"de...  ",
      "text/html": "<div>\n<style scoped>\n    .dataframe tbody tr th:only-of-type {\n        vertical-align: middle;\n    }\n\n    .dataframe tbody tr th {\n        vertical-align: top;\n    }\n\n    .dataframe thead th {\n        text-align: right;\n    }\n</style>\n<table border=\"1\" class=\"dataframe\">\n  <thead>\n    <tr style=\"text-align: right;\">\n      <th></th>\n      <th>budget</th>\n      <th>genres</th>\n      <th>id</th>\n      <th>keywords</th>\n      <th>original_language</th>\n      <th>original_title</th>\n      <th>overview</th>\n      <th>popularity</th>\n      <th>production_companies</th>\n      <th>release_date</th>\n      <th>revenue</th>\n      <th>runtime</th>\n      <th>spoken_languages</th>\n      <th>tagline</th>\n      <th>vote_average</th>\n      <th>vote_count</th>\n      <th>cast</th>\n      <th>crew</th>\n    </tr>\n  </thead>\n  <tbody>\n    <tr>\n      <th>0</th>\n      <td>237000000</td>\n      <td>[{\"id\": 28, \"name\": \"Action\"}, {\"id\": 12, \"nam...</td>\n      <td>19995</td>\n      <td>[{\"id\": 1463, \"name\": \"culture clash\"}, {\"id\":...</td>\n      <td>en</td>\n      <td>Avatar</td>\n      <td>In the 22nd century, a paraplegic Marine is di...</td>\n      <td>150.437577</td>\n      <td>[{\"name\": \"Ingenious Film Partners\", \"id\": 289...</td>\n      <td>2009-12-10</td>\n      <td>2787965087</td>\n      <td>162.0</td>\n      <td>[{\"iso_639_1\": \"en\", \"name\": \"English\"}, {\"iso...</td>\n      <td>Enter the World of Pandora.</td>\n      <td>7.2</td>\n      <td>11800</td>\n      <td>[{\"cast_id\": 242, \"character\": \"Jake Sully\", \"...</td>\n      <td>[{\"credit_id\": \"52fe48009251416c750aca23\", \"de...</td>\n    </tr>\n    <tr>\n      <th>1</th>\n      <td>300000000</td>\n      <td>[{\"id\": 12, \"name\": \"Adventure\"}, {\"id\": 14, \"...</td>\n      <td>285</td>\n      <td>[{\"id\": 270, \"name\": \"ocean\"}, {\"id\": 726, \"na...</td>\n      <td>en</td>\n      <td>Pirates of the Caribbean: At World's End</td>\n      <td>Captain Barbossa, long believed to be dead, ha...</td>\n      <td>139.082615</td>\n      <td>[{\"name\": \"Walt Disney Pictures\", \"id\": 2}, {\"...</td>\n      <td>2007-05-19</td>\n      <td>961000000</td>\n      <td>169.0</td>\n      <td>[{\"iso_639_1\": \"en\", \"name\": \"English\"}]</td>\n      <td>At the end of the world, the adventure begins.</td>\n      <td>6.9</td>\n      <td>4500</td>\n      <td>[{\"cast_id\": 4, \"character\": \"Captain Jack Spa...</td>\n      <td>[{\"credit_id\": \"52fe4232c3a36847f800b579\", \"de...</td>\n    </tr>\n    <tr>\n      <th>2</th>\n      <td>245000000</td>\n      <td>[{\"id\": 28, \"name\": \"Action\"}, {\"id\": 12, \"nam...</td>\n      <td>206647</td>\n      <td>[{\"id\": 470, \"name\": \"spy\"}, {\"id\": 818, \"name...</td>\n      <td>en</td>\n      <td>Spectre</td>\n      <td>A cryptic message from Bond’s past sends him o...</td>\n      <td>107.376788</td>\n      <td>[{\"name\": \"Columbia Pictures\", \"id\": 5}, {\"nam...</td>\n      <td>2015-10-26</td>\n      <td>880674609</td>\n      <td>148.0</td>\n      <td>[{\"iso_639_1\": \"fr\", \"name\": \"Fran\\u00e7ais\"},...</td>\n      <td>A Plan No One Escapes</td>\n      <td>6.3</td>\n      <td>4466</td>\n      <td>[{\"cast_id\": 1, \"character\": \"James Bond\", \"cr...</td>\n      <td>[{\"credit_id\": \"54805967c3a36829b5002c41\", \"de...</td>\n    </tr>\n    <tr>\n      <th>3</th>\n      <td>250000000</td>\n      <td>[{\"id\": 28, \"name\": \"Action\"}, {\"id\": 80, \"nam...</td>\n      <td>49026</td>\n      <td>[{\"id\": 849, \"name\": \"dc comics\"}, {\"id\": 853,...</td>\n      <td>en</td>\n      <td>The Dark Knight Rises</td>\n      <td>Following the death of District Attorney Harve...</td>\n      <td>112.312950</td>\n      <td>[{\"name\": \"Legendary Pictures\", \"id\": 923}, {\"...</td>\n      <td>2012-07-16</td>\n      <td>1084939099</td>\n      <td>165.0</td>\n      <td>[{\"iso_639_1\": \"en\", \"name\": \"English\"}]</td>\n      <td>The Legend Ends</td>\n      <td>7.6</td>\n      <td>9106</td>\n      <td>[{\"cast_id\": 2, \"character\": \"Bruce Wayne / Ba...</td>\n      <td>[{\"credit_id\": \"52fe4781c3a36847f81398c3\", \"de...</td>\n    </tr>\n    <tr>\n      <th>4</th>\n      <td>260000000</td>\n      <td>[{\"id\": 28, \"name\": \"Action\"}, {\"id\": 12, \"nam...</td>\n      <td>49529</td>\n      <td>[{\"id\": 818, \"name\": \"based on novel\"}, {\"id\":...</td>\n      <td>en</td>\n      <td>John Carter</td>\n      <td>John Carter is a war-weary, former military ca...</td>\n      <td>43.926995</td>\n      <td>[{\"name\": \"Walt Disney Pictures\", \"id\": 2}]</td>\n      <td>2012-03-07</td>\n      <td>284139100</td>\n      <td>132.0</td>\n      <td>[{\"iso_639_1\": \"en\", \"name\": \"English\"}]</td>\n      <td>Lost in our world, found in another.</td>\n      <td>6.1</td>\n      <td>2124</td>\n      <td>[{\"cast_id\": 5, \"character\": \"John Carter\", \"c...</td>\n      <td>[{\"credit_id\": \"52fe479ac3a36847f813eaa3\", \"de...</td>\n    </tr>\n  </tbody>\n</table>\n</div>"
     },
     "execution_count": 9,
     "metadata": {},
     "output_type": "execute_result"
    }
   ],
   "source": [
    "# Now, we have duplicated columns (title_x and title_y)\n",
    "# Data also have columns which are unneeded for our project.\n",
    "# So, i'm going to drop them.\n",
    "df_cleaned = df_merge.drop(columns=[\"homepage\", \"title_x\", \"title_y\", \"status\", \"production_countries\"])\n",
    "df_cleaned.head()"
   ]
  },
  {
   "cell_type": "code",
   "execution_count": 10,
   "metadata": {
    "pycharm": {
     "name": "#%%\n"
    }
   },
   "outputs": [
    {
     "data": {
      "text/plain": "             budget             id   popularity       revenue      runtime  \\\ncount  4.803000e+03    4803.000000  4803.000000  4.803000e+03  4801.000000   \nmean   2.904504e+07   57165.484281    21.492301  8.226064e+07   106.875859   \nstd    4.072239e+07   88694.614033    31.816650  1.628571e+08    22.611935   \nmin    0.000000e+00       5.000000     0.000000  0.000000e+00     0.000000   \n25%    7.900000e+05    9014.500000     4.668070  0.000000e+00    94.000000   \n50%    1.500000e+07   14629.000000    12.921594  1.917000e+07   103.000000   \n75%    4.000000e+07   58610.500000    28.313505  9.291719e+07   118.000000   \nmax    3.800000e+08  459488.000000   875.581305  2.787965e+09   338.000000   \n\n       vote_average    vote_count  \ncount   4803.000000   4803.000000  \nmean       6.092172    690.217989  \nstd        1.194612   1234.585891  \nmin        0.000000      0.000000  \n25%        5.600000     54.000000  \n50%        6.200000    235.000000  \n75%        6.800000    737.000000  \nmax       10.000000  13752.000000  ",
      "text/html": "<div>\n<style scoped>\n    .dataframe tbody tr th:only-of-type {\n        vertical-align: middle;\n    }\n\n    .dataframe tbody tr th {\n        vertical-align: top;\n    }\n\n    .dataframe thead th {\n        text-align: right;\n    }\n</style>\n<table border=\"1\" class=\"dataframe\">\n  <thead>\n    <tr style=\"text-align: right;\">\n      <th></th>\n      <th>budget</th>\n      <th>id</th>\n      <th>popularity</th>\n      <th>revenue</th>\n      <th>runtime</th>\n      <th>vote_average</th>\n      <th>vote_count</th>\n    </tr>\n  </thead>\n  <tbody>\n    <tr>\n      <th>count</th>\n      <td>4.803000e+03</td>\n      <td>4803.000000</td>\n      <td>4803.000000</td>\n      <td>4.803000e+03</td>\n      <td>4801.000000</td>\n      <td>4803.000000</td>\n      <td>4803.000000</td>\n    </tr>\n    <tr>\n      <th>mean</th>\n      <td>2.904504e+07</td>\n      <td>57165.484281</td>\n      <td>21.492301</td>\n      <td>8.226064e+07</td>\n      <td>106.875859</td>\n      <td>6.092172</td>\n      <td>690.217989</td>\n    </tr>\n    <tr>\n      <th>std</th>\n      <td>4.072239e+07</td>\n      <td>88694.614033</td>\n      <td>31.816650</td>\n      <td>1.628571e+08</td>\n      <td>22.611935</td>\n      <td>1.194612</td>\n      <td>1234.585891</td>\n    </tr>\n    <tr>\n      <th>min</th>\n      <td>0.000000e+00</td>\n      <td>5.000000</td>\n      <td>0.000000</td>\n      <td>0.000000e+00</td>\n      <td>0.000000</td>\n      <td>0.000000</td>\n      <td>0.000000</td>\n    </tr>\n    <tr>\n      <th>25%</th>\n      <td>7.900000e+05</td>\n      <td>9014.500000</td>\n      <td>4.668070</td>\n      <td>0.000000e+00</td>\n      <td>94.000000</td>\n      <td>5.600000</td>\n      <td>54.000000</td>\n    </tr>\n    <tr>\n      <th>50%</th>\n      <td>1.500000e+07</td>\n      <td>14629.000000</td>\n      <td>12.921594</td>\n      <td>1.917000e+07</td>\n      <td>103.000000</td>\n      <td>6.200000</td>\n      <td>235.000000</td>\n    </tr>\n    <tr>\n      <th>75%</th>\n      <td>4.000000e+07</td>\n      <td>58610.500000</td>\n      <td>28.313505</td>\n      <td>9.291719e+07</td>\n      <td>118.000000</td>\n      <td>6.800000</td>\n      <td>737.000000</td>\n    </tr>\n    <tr>\n      <th>max</th>\n      <td>3.800000e+08</td>\n      <td>459488.000000</td>\n      <td>875.581305</td>\n      <td>2.787965e+09</td>\n      <td>338.000000</td>\n      <td>10.000000</td>\n      <td>13752.000000</td>\n    </tr>\n  </tbody>\n</table>\n</div>"
     },
     "execution_count": 10,
     "metadata": {},
     "output_type": "execute_result"
    }
   ],
   "source": [
    "# Data Exploratory\n",
    "df_cleaned.describe()"
   ]
  },
  {
   "cell_type": "code",
   "execution_count": 11,
   "metadata": {
    "pycharm": {
     "name": "#%%\n"
    }
   },
   "outputs": [
    {
     "name": "stdout",
     "output_type": "stream",
     "text": [
      "<class 'pandas.core.frame.DataFrame'>\n",
      "Int64Index: 4803 entries, 0 to 4802\n",
      "Data columns (total 18 columns):\n",
      " #   Column                Non-Null Count  Dtype  \n",
      "---  ------                --------------  -----  \n",
      " 0   budget                4803 non-null   int64  \n",
      " 1   genres                4803 non-null   object \n",
      " 2   id                    4803 non-null   int64  \n",
      " 3   keywords              4803 non-null   object \n",
      " 4   original_language     4803 non-null   object \n",
      " 5   original_title        4803 non-null   object \n",
      " 6   overview              4800 non-null   object \n",
      " 7   popularity            4803 non-null   float64\n",
      " 8   production_companies  4803 non-null   object \n",
      " 9   release_date          4802 non-null   object \n",
      " 10  revenue               4803 non-null   int64  \n",
      " 11  runtime               4801 non-null   float64\n",
      " 12  spoken_languages      4803 non-null   object \n",
      " 13  tagline               3959 non-null   object \n",
      " 14  vote_average          4803 non-null   float64\n",
      " 15  vote_count            4803 non-null   int64  \n",
      " 16  cast                  4803 non-null   object \n",
      " 17  crew                  4803 non-null   object \n",
      "dtypes: float64(3), int64(4), object(11)\n",
      "memory usage: 712.9+ KB\n"
     ]
    }
   ],
   "source": [
    "df_cleaned.info()"
   ]
  },
  {
   "cell_type": "markdown",
   "metadata": {
    "pycharm": {
     "name": "#%% md\n"
    }
   },
   "source": [
    "## Creating Content Based Recommendations based on movie plot summary in \"overview\" column\n",
    "\n",
    "For each and every movie - we create a vector of matrix\n",
    "Applying a recommendation system => Usually based on pair-wise similarity\n",
    "To find this similarity => we need to represent each and every movie summary as a vector\n",
    "We will used NLP Concept of TFidf Vectorizer which will help us creating a document matrix."
   ]
  },
  {
   "cell_type": "code",
   "execution_count": 12,
   "metadata": {
    "pycharm": {
     "name": "#%%\n"
    }
   },
   "outputs": [],
   "source": [
    "from sklearn.feature_extraction.text import TfidfVectorizer\n",
    "\n",
    "tfv = TfidfVectorizer(\n",
    "    min_df = 3,\n",
    "    max_features = None,\n",
    "    strip_accents = \"unicode\",\n",
    "    analyzer = \"word\",\n",
    "    token_pattern = r'\\w{1,}',\n",
    "    ngram_range = (1, 3),         # Taking combinations of 1-3 different kind of words\n",
    "    stop_words = \"english\"        # Remove the unnecessary stopword characters\n",
    ")"
   ]
  },
  {
   "cell_type": "code",
   "execution_count": 13,
   "metadata": {
    "pycharm": {
     "name": "#%%\n"
    }
   },
   "outputs": [],
   "source": [
    "df_cleaned['overview'] = df_cleaned['overview'].fillna('')   # Removing NaN values\n",
    "\n",
    "tfv_matrix = tfv.fit_transform(df_cleaned['overview'])   # => Sparse Matrix(vectors) => most of the values in matrix = 0"
   ]
  },
  {
   "cell_type": "code",
   "execution_count": 14,
   "metadata": {
    "pycharm": {
     "name": "#%%\n"
    }
   },
   "outputs": [
    {
     "data": {
      "text/plain": "(4803, 10417)"
     },
     "execution_count": 14,
     "metadata": {},
     "output_type": "execute_result"
    }
   ],
   "source": [
    "tfv_matrix.shape"
   ]
  },
  {
   "cell_type": "code",
   "execution_count": 15,
   "metadata": {
    "pycharm": {
     "name": "#%%\n"
    }
   },
   "outputs": [],
   "source": [
    "from sklearn.metrics.pairwise import sigmoid_kernel\n",
    "# Sigmoid => Responsible for transforming input between 0 to 1\n",
    "# Passing the summary vectors in the sigmoid function => Will get values between 0 and 1\n"
   ]
  },
  {
   "cell_type": "markdown",
   "metadata": {
    "pycharm": {
     "name": "#%% md\n"
    }
   },
   "source": [
    "## Creating a Function to get recommendations for a movie based on the summaries\n",
    "Step 1 - get corresponding index of the movie title\n",
    "Step 2 - get pairwise similarity scores\n",
    "Step 3 - Sort the movies\n",
    "Step 4 - Find the scores of 10 most similar movies\n",
    "Step 5 - get the movie indices of those top 10 movies\n",
    "Step 6 - Return the top 10 most similar movies"
   ]
  },
  {
   "cell_type": "code",
   "execution_count": 16,
   "metadata": {
    "pycharm": {
     "name": "#%%\n"
    }
   },
   "outputs": [],
   "source": [
    "# Give movie title as input and based on the movie title we apply the object created in the sigmoid kernal\n",
    "# Doing the same thing as above but putting it in the fuction\n",
    "def give_recommendation(title):\n",
    "    sig = sigmoid_kernel(tfv_matrix, tfv_matrix)\n",
    "    indices = pd.Series(df_cleaned.index, index=df_cleaned['original_title']).drop_duplicates()\n",
    "    idx = indices[title]\n",
    "    sig_scores = list(enumerate(sig[idx]))\n",
    "    sig_scores = sorted(sig_scores, key=lambda x: x[1], reverse=True)\n",
    "\n",
    "    # Getting Top 10 scores(index, scores)\n",
    "    sig_scores = sig_scores[1:11]\n",
    "    movie_indices = [i[0] for i in sig_scores]\n",
    "    return df_cleaned['original_title'].iloc[movie_indices]"
   ]
  },
  {
   "cell_type": "code",
   "execution_count": 17,
   "metadata": {
    "pycharm": {
     "name": "#%%\n"
    }
   },
   "outputs": [
    {
     "data": {
      "text/plain": "299                              Batman Forever\n65                              The Dark Knight\n1359                                     Batman\n428                              Batman Returns\n2507                                  Slow Burn\n119                               Batman Begins\n1181                                        JFK\n9            Batman v Superman: Dawn of Justice\n3854    Batman: The Dark Knight Returns, Part 2\n210                              Batman & Robin\nName: original_title, dtype: object"
     },
     "execution_count": 17,
     "metadata": {},
     "output_type": "execute_result"
    }
   ],
   "source": [
    "rec_1 = give_recommendation('The Dark Knight Rises')\n",
    "rec_1"
   ]
  },
  {
   "cell_type": "code",
   "execution_count": 17,
   "metadata": {
    "pycharm": {
     "name": "#%%\n"
    }
   },
   "outputs": [],
   "source": []
  },
  {
   "cell_type": "markdown",
   "metadata": {
    "pycharm": {
     "name": "#%% md\n"
    }
   },
   "source": [
    "## Content Based on Genres, Keywords and Credits\n",
    "It goes without saying that the quality of our recommender would be increased with the usage of better metadata. That is exactly what we are going to do in this section. We are going to build a recommender based on the following metadata: the 3 top actors, the director, related genres and the movie plot keywords.\n",
    "\n",
    "From the cast, crew and keywords features, we need to extract the three most important actors, the director and the keywords associated with that movie. Right now, our data is present in the form of \"stringified\" lists , we need to convert it into a safe and usable structure"
   ]
  },
  {
   "cell_type": "code",
   "execution_count": 18,
   "metadata": {
    "pycharm": {
     "name": "#%%\n"
    }
   },
   "outputs": [],
   "source": [
    "# Parse the stringified features into their corresponding python objects\n",
    "from ast import literal_eval\n",
    "\n",
    "features = ['cast', 'crew', 'keywords', 'genres']\n",
    "for feature in features:\n",
    "    df_cleaned[feature] = df_cleaned[feature].apply(literal_eval)"
   ]
  },
  {
   "cell_type": "code",
   "execution_count": 19,
   "metadata": {
    "pycharm": {
     "name": "#%%\n"
    }
   },
   "outputs": [
    {
     "data": {
      "text/plain": "         budget                                             genres      id  \\\n0     237000000  [{'id': 28, 'name': 'Action'}, {'id': 12, 'nam...   19995   \n1     300000000  [{'id': 12, 'name': 'Adventure'}, {'id': 14, '...     285   \n2     245000000  [{'id': 28, 'name': 'Action'}, {'id': 12, 'nam...  206647   \n3     250000000  [{'id': 28, 'name': 'Action'}, {'id': 80, 'nam...   49026   \n4     260000000  [{'id': 28, 'name': 'Action'}, {'id': 12, 'nam...   49529   \n...         ...                                                ...     ...   \n4798     220000  [{'id': 28, 'name': 'Action'}, {'id': 80, 'nam...    9367   \n4799       9000  [{'id': 35, 'name': 'Comedy'}, {'id': 10749, '...   72766   \n4800          0  [{'id': 35, 'name': 'Comedy'}, {'id': 18, 'nam...  231617   \n4801          0                                                 []  126186   \n4802          0                [{'id': 99, 'name': 'Documentary'}]   25975   \n\n                                               keywords original_language  \\\n0     [{'id': 1463, 'name': 'culture clash'}, {'id':...                en   \n1     [{'id': 270, 'name': 'ocean'}, {'id': 726, 'na...                en   \n2     [{'id': 470, 'name': 'spy'}, {'id': 818, 'name...                en   \n3     [{'id': 849, 'name': 'dc comics'}, {'id': 853,...                en   \n4     [{'id': 818, 'name': 'based on novel'}, {'id':...                en   \n...                                                 ...               ...   \n4798  [{'id': 5616, 'name': 'united states–mexico ba...                es   \n4799                                                 []                en   \n4800  [{'id': 248, 'name': 'date'}, {'id': 699, 'nam...                en   \n4801                                                 []                en   \n4802  [{'id': 1523, 'name': 'obsession'}, {'id': 224...                en   \n\n                                original_title  \\\n0                                       Avatar   \n1     Pirates of the Caribbean: At World's End   \n2                                      Spectre   \n3                        The Dark Knight Rises   \n4                                  John Carter   \n...                                        ...   \n4798                               El Mariachi   \n4799                                 Newlyweds   \n4800                 Signed, Sealed, Delivered   \n4801                          Shanghai Calling   \n4802                         My Date with Drew   \n\n                                               overview  popularity  \\\n0     In the 22nd century, a paraplegic Marine is di...  150.437577   \n1     Captain Barbossa, long believed to be dead, ha...  139.082615   \n2     A cryptic message from Bond’s past sends him o...  107.376788   \n3     Following the death of District Attorney Harve...  112.312950   \n4     John Carter is a war-weary, former military ca...   43.926995   \n...                                                 ...         ...   \n4798  El Mariachi just wants to play his guitar and ...   14.269792   \n4799  A newlywed couple's honeymoon is upended by th...    0.642552   \n4800  \"Signed, Sealed, Delivered\" introduces a dedic...    1.444476   \n4801  When ambitious New York attorney Sam is sent t...    0.857008   \n4802  Ever since the second grade when he first saw ...    1.929883   \n\n                                   production_companies release_date  \\\n0     [{\"name\": \"Ingenious Film Partners\", \"id\": 289...   2009-12-10   \n1     [{\"name\": \"Walt Disney Pictures\", \"id\": 2}, {\"...   2007-05-19   \n2     [{\"name\": \"Columbia Pictures\", \"id\": 5}, {\"nam...   2015-10-26   \n3     [{\"name\": \"Legendary Pictures\", \"id\": 923}, {\"...   2012-07-16   \n4           [{\"name\": \"Walt Disney Pictures\", \"id\": 2}]   2012-03-07   \n...                                                 ...          ...   \n4798           [{\"name\": \"Columbia Pictures\", \"id\": 5}]   1992-09-04   \n4799                                                 []   2011-12-26   \n4800  [{\"name\": \"Front Street Pictures\", \"id\": 3958}...   2013-10-13   \n4801                                                 []   2012-05-03   \n4802  [{\"name\": \"rusty bear entertainment\", \"id\": 87...   2005-08-05   \n\n         revenue  runtime                                   spoken_languages  \\\n0     2787965087    162.0  [{\"iso_639_1\": \"en\", \"name\": \"English\"}, {\"iso...   \n1      961000000    169.0           [{\"iso_639_1\": \"en\", \"name\": \"English\"}]   \n2      880674609    148.0  [{\"iso_639_1\": \"fr\", \"name\": \"Fran\\u00e7ais\"},...   \n3     1084939099    165.0           [{\"iso_639_1\": \"en\", \"name\": \"English\"}]   \n4      284139100    132.0           [{\"iso_639_1\": \"en\", \"name\": \"English\"}]   \n...          ...      ...                                                ...   \n4798     2040920     81.0      [{\"iso_639_1\": \"es\", \"name\": \"Espa\\u00f1ol\"}]   \n4799           0     85.0                                                 []   \n4800           0    120.0           [{\"iso_639_1\": \"en\", \"name\": \"English\"}]   \n4801           0     98.0           [{\"iso_639_1\": \"en\", \"name\": \"English\"}]   \n4802           0     90.0           [{\"iso_639_1\": \"en\", \"name\": \"English\"}]   \n\n                                                tagline  vote_average  \\\n0                           Enter the World of Pandora.           7.2   \n1        At the end of the world, the adventure begins.           6.9   \n2                                 A Plan No One Escapes           6.3   \n3                                       The Legend Ends           7.6   \n4                  Lost in our world, found in another.           6.1   \n...                                                 ...           ...   \n4798  He didn't come looking for trouble, but troubl...           6.6   \n4799  A newlywed couple's honeymoon is upended by th...           5.9   \n4800                                                NaN           7.0   \n4801                           A New Yorker in Shanghai           5.7   \n4802                                                NaN           6.3   \n\n      vote_count                                               cast  \\\n0          11800  [{'cast_id': 242, 'character': 'Jake Sully', '...   \n1           4500  [{'cast_id': 4, 'character': 'Captain Jack Spa...   \n2           4466  [{'cast_id': 1, 'character': 'James Bond', 'cr...   \n3           9106  [{'cast_id': 2, 'character': 'Bruce Wayne / Ba...   \n4           2124  [{'cast_id': 5, 'character': 'John Carter', 'c...   \n...          ...                                                ...   \n4798         238  [{'cast_id': 1, 'character': 'El Mariachi', 'c...   \n4799           5  [{'cast_id': 1, 'character': 'Buzzy', 'credit_...   \n4800           6  [{'cast_id': 8, 'character': 'Oliver O’Toole',...   \n4801           7  [{'cast_id': 3, 'character': 'Sam', 'credit_id...   \n4802          16  [{'cast_id': 3, 'character': 'Herself', 'credi...   \n\n                                                   crew  \n0     [{'credit_id': '52fe48009251416c750aca23', 'de...  \n1     [{'credit_id': '52fe4232c3a36847f800b579', 'de...  \n2     [{'credit_id': '54805967c3a36829b5002c41', 'de...  \n3     [{'credit_id': '52fe4781c3a36847f81398c3', 'de...  \n4     [{'credit_id': '52fe479ac3a36847f813eaa3', 'de...  \n...                                                 ...  \n4798  [{'credit_id': '52fe44eec3a36847f80b280b', 'de...  \n4799  [{'credit_id': '52fe487dc3a368484e0fb013', 'de...  \n4800  [{'credit_id': '52fe4df3c3a36847f8275ecf', 'de...  \n4801  [{'credit_id': '52fe4ad9c3a368484e16a36b', 'de...  \n4802  [{'credit_id': '58ce021b9251415a390165d9', 'de...  \n\n[4803 rows x 18 columns]",
      "text/html": "<div>\n<style scoped>\n    .dataframe tbody tr th:only-of-type {\n        vertical-align: middle;\n    }\n\n    .dataframe tbody tr th {\n        vertical-align: top;\n    }\n\n    .dataframe thead th {\n        text-align: right;\n    }\n</style>\n<table border=\"1\" class=\"dataframe\">\n  <thead>\n    <tr style=\"text-align: right;\">\n      <th></th>\n      <th>budget</th>\n      <th>genres</th>\n      <th>id</th>\n      <th>keywords</th>\n      <th>original_language</th>\n      <th>original_title</th>\n      <th>overview</th>\n      <th>popularity</th>\n      <th>production_companies</th>\n      <th>release_date</th>\n      <th>revenue</th>\n      <th>runtime</th>\n      <th>spoken_languages</th>\n      <th>tagline</th>\n      <th>vote_average</th>\n      <th>vote_count</th>\n      <th>cast</th>\n      <th>crew</th>\n    </tr>\n  </thead>\n  <tbody>\n    <tr>\n      <th>0</th>\n      <td>237000000</td>\n      <td>[{'id': 28, 'name': 'Action'}, {'id': 12, 'nam...</td>\n      <td>19995</td>\n      <td>[{'id': 1463, 'name': 'culture clash'}, {'id':...</td>\n      <td>en</td>\n      <td>Avatar</td>\n      <td>In the 22nd century, a paraplegic Marine is di...</td>\n      <td>150.437577</td>\n      <td>[{\"name\": \"Ingenious Film Partners\", \"id\": 289...</td>\n      <td>2009-12-10</td>\n      <td>2787965087</td>\n      <td>162.0</td>\n      <td>[{\"iso_639_1\": \"en\", \"name\": \"English\"}, {\"iso...</td>\n      <td>Enter the World of Pandora.</td>\n      <td>7.2</td>\n      <td>11800</td>\n      <td>[{'cast_id': 242, 'character': 'Jake Sully', '...</td>\n      <td>[{'credit_id': '52fe48009251416c750aca23', 'de...</td>\n    </tr>\n    <tr>\n      <th>1</th>\n      <td>300000000</td>\n      <td>[{'id': 12, 'name': 'Adventure'}, {'id': 14, '...</td>\n      <td>285</td>\n      <td>[{'id': 270, 'name': 'ocean'}, {'id': 726, 'na...</td>\n      <td>en</td>\n      <td>Pirates of the Caribbean: At World's End</td>\n      <td>Captain Barbossa, long believed to be dead, ha...</td>\n      <td>139.082615</td>\n      <td>[{\"name\": \"Walt Disney Pictures\", \"id\": 2}, {\"...</td>\n      <td>2007-05-19</td>\n      <td>961000000</td>\n      <td>169.0</td>\n      <td>[{\"iso_639_1\": \"en\", \"name\": \"English\"}]</td>\n      <td>At the end of the world, the adventure begins.</td>\n      <td>6.9</td>\n      <td>4500</td>\n      <td>[{'cast_id': 4, 'character': 'Captain Jack Spa...</td>\n      <td>[{'credit_id': '52fe4232c3a36847f800b579', 'de...</td>\n    </tr>\n    <tr>\n      <th>2</th>\n      <td>245000000</td>\n      <td>[{'id': 28, 'name': 'Action'}, {'id': 12, 'nam...</td>\n      <td>206647</td>\n      <td>[{'id': 470, 'name': 'spy'}, {'id': 818, 'name...</td>\n      <td>en</td>\n      <td>Spectre</td>\n      <td>A cryptic message from Bond’s past sends him o...</td>\n      <td>107.376788</td>\n      <td>[{\"name\": \"Columbia Pictures\", \"id\": 5}, {\"nam...</td>\n      <td>2015-10-26</td>\n      <td>880674609</td>\n      <td>148.0</td>\n      <td>[{\"iso_639_1\": \"fr\", \"name\": \"Fran\\u00e7ais\"},...</td>\n      <td>A Plan No One Escapes</td>\n      <td>6.3</td>\n      <td>4466</td>\n      <td>[{'cast_id': 1, 'character': 'James Bond', 'cr...</td>\n      <td>[{'credit_id': '54805967c3a36829b5002c41', 'de...</td>\n    </tr>\n    <tr>\n      <th>3</th>\n      <td>250000000</td>\n      <td>[{'id': 28, 'name': 'Action'}, {'id': 80, 'nam...</td>\n      <td>49026</td>\n      <td>[{'id': 849, 'name': 'dc comics'}, {'id': 853,...</td>\n      <td>en</td>\n      <td>The Dark Knight Rises</td>\n      <td>Following the death of District Attorney Harve...</td>\n      <td>112.312950</td>\n      <td>[{\"name\": \"Legendary Pictures\", \"id\": 923}, {\"...</td>\n      <td>2012-07-16</td>\n      <td>1084939099</td>\n      <td>165.0</td>\n      <td>[{\"iso_639_1\": \"en\", \"name\": \"English\"}]</td>\n      <td>The Legend Ends</td>\n      <td>7.6</td>\n      <td>9106</td>\n      <td>[{'cast_id': 2, 'character': 'Bruce Wayne / Ba...</td>\n      <td>[{'credit_id': '52fe4781c3a36847f81398c3', 'de...</td>\n    </tr>\n    <tr>\n      <th>4</th>\n      <td>260000000</td>\n      <td>[{'id': 28, 'name': 'Action'}, {'id': 12, 'nam...</td>\n      <td>49529</td>\n      <td>[{'id': 818, 'name': 'based on novel'}, {'id':...</td>\n      <td>en</td>\n      <td>John Carter</td>\n      <td>John Carter is a war-weary, former military ca...</td>\n      <td>43.926995</td>\n      <td>[{\"name\": \"Walt Disney Pictures\", \"id\": 2}]</td>\n      <td>2012-03-07</td>\n      <td>284139100</td>\n      <td>132.0</td>\n      <td>[{\"iso_639_1\": \"en\", \"name\": \"English\"}]</td>\n      <td>Lost in our world, found in another.</td>\n      <td>6.1</td>\n      <td>2124</td>\n      <td>[{'cast_id': 5, 'character': 'John Carter', 'c...</td>\n      <td>[{'credit_id': '52fe479ac3a36847f813eaa3', 'de...</td>\n    </tr>\n    <tr>\n      <th>...</th>\n      <td>...</td>\n      <td>...</td>\n      <td>...</td>\n      <td>...</td>\n      <td>...</td>\n      <td>...</td>\n      <td>...</td>\n      <td>...</td>\n      <td>...</td>\n      <td>...</td>\n      <td>...</td>\n      <td>...</td>\n      <td>...</td>\n      <td>...</td>\n      <td>...</td>\n      <td>...</td>\n      <td>...</td>\n      <td>...</td>\n    </tr>\n    <tr>\n      <th>4798</th>\n      <td>220000</td>\n      <td>[{'id': 28, 'name': 'Action'}, {'id': 80, 'nam...</td>\n      <td>9367</td>\n      <td>[{'id': 5616, 'name': 'united states–mexico ba...</td>\n      <td>es</td>\n      <td>El Mariachi</td>\n      <td>El Mariachi just wants to play his guitar and ...</td>\n      <td>14.269792</td>\n      <td>[{\"name\": \"Columbia Pictures\", \"id\": 5}]</td>\n      <td>1992-09-04</td>\n      <td>2040920</td>\n      <td>81.0</td>\n      <td>[{\"iso_639_1\": \"es\", \"name\": \"Espa\\u00f1ol\"}]</td>\n      <td>He didn't come looking for trouble, but troubl...</td>\n      <td>6.6</td>\n      <td>238</td>\n      <td>[{'cast_id': 1, 'character': 'El Mariachi', 'c...</td>\n      <td>[{'credit_id': '52fe44eec3a36847f80b280b', 'de...</td>\n    </tr>\n    <tr>\n      <th>4799</th>\n      <td>9000</td>\n      <td>[{'id': 35, 'name': 'Comedy'}, {'id': 10749, '...</td>\n      <td>72766</td>\n      <td>[]</td>\n      <td>en</td>\n      <td>Newlyweds</td>\n      <td>A newlywed couple's honeymoon is upended by th...</td>\n      <td>0.642552</td>\n      <td>[]</td>\n      <td>2011-12-26</td>\n      <td>0</td>\n      <td>85.0</td>\n      <td>[]</td>\n      <td>A newlywed couple's honeymoon is upended by th...</td>\n      <td>5.9</td>\n      <td>5</td>\n      <td>[{'cast_id': 1, 'character': 'Buzzy', 'credit_...</td>\n      <td>[{'credit_id': '52fe487dc3a368484e0fb013', 'de...</td>\n    </tr>\n    <tr>\n      <th>4800</th>\n      <td>0</td>\n      <td>[{'id': 35, 'name': 'Comedy'}, {'id': 18, 'nam...</td>\n      <td>231617</td>\n      <td>[{'id': 248, 'name': 'date'}, {'id': 699, 'nam...</td>\n      <td>en</td>\n      <td>Signed, Sealed, Delivered</td>\n      <td>\"Signed, Sealed, Delivered\" introduces a dedic...</td>\n      <td>1.444476</td>\n      <td>[{\"name\": \"Front Street Pictures\", \"id\": 3958}...</td>\n      <td>2013-10-13</td>\n      <td>0</td>\n      <td>120.0</td>\n      <td>[{\"iso_639_1\": \"en\", \"name\": \"English\"}]</td>\n      <td>NaN</td>\n      <td>7.0</td>\n      <td>6</td>\n      <td>[{'cast_id': 8, 'character': 'Oliver O’Toole',...</td>\n      <td>[{'credit_id': '52fe4df3c3a36847f8275ecf', 'de...</td>\n    </tr>\n    <tr>\n      <th>4801</th>\n      <td>0</td>\n      <td>[]</td>\n      <td>126186</td>\n      <td>[]</td>\n      <td>en</td>\n      <td>Shanghai Calling</td>\n      <td>When ambitious New York attorney Sam is sent t...</td>\n      <td>0.857008</td>\n      <td>[]</td>\n      <td>2012-05-03</td>\n      <td>0</td>\n      <td>98.0</td>\n      <td>[{\"iso_639_1\": \"en\", \"name\": \"English\"}]</td>\n      <td>A New Yorker in Shanghai</td>\n      <td>5.7</td>\n      <td>7</td>\n      <td>[{'cast_id': 3, 'character': 'Sam', 'credit_id...</td>\n      <td>[{'credit_id': '52fe4ad9c3a368484e16a36b', 'de...</td>\n    </tr>\n    <tr>\n      <th>4802</th>\n      <td>0</td>\n      <td>[{'id': 99, 'name': 'Documentary'}]</td>\n      <td>25975</td>\n      <td>[{'id': 1523, 'name': 'obsession'}, {'id': 224...</td>\n      <td>en</td>\n      <td>My Date with Drew</td>\n      <td>Ever since the second grade when he first saw ...</td>\n      <td>1.929883</td>\n      <td>[{\"name\": \"rusty bear entertainment\", \"id\": 87...</td>\n      <td>2005-08-05</td>\n      <td>0</td>\n      <td>90.0</td>\n      <td>[{\"iso_639_1\": \"en\", \"name\": \"English\"}]</td>\n      <td>NaN</td>\n      <td>6.3</td>\n      <td>16</td>\n      <td>[{'cast_id': 3, 'character': 'Herself', 'credi...</td>\n      <td>[{'credit_id': '58ce021b9251415a390165d9', 'de...</td>\n    </tr>\n  </tbody>\n</table>\n<p>4803 rows × 18 columns</p>\n</div>"
     },
     "execution_count": 19,
     "metadata": {},
     "output_type": "execute_result"
    }
   ],
   "source": [
    "df_cleaned"
   ]
  },
  {
   "cell_type": "code",
   "execution_count": 20,
   "metadata": {
    "pycharm": {
     "name": "#%%\n"
    }
   },
   "outputs": [],
   "source": [
    "# Get the director's name from the crew feature. If director is not listed, return NaN\n",
    "def get_director(x):\n",
    "    for i in x:\n",
    "        if i['job'] == 'Director':\n",
    "            return i['name']\n",
    "    return np.nan"
   ]
  },
  {
   "cell_type": "code",
   "execution_count": 21,
   "metadata": {
    "pycharm": {
     "name": "#%%\n"
    }
   },
   "outputs": [],
   "source": [
    "# Returns the list top 3 elements or entire list; whichever is more.\n",
    "def get_list(x):\n",
    "    if isinstance(x, list):\n",
    "        names = [i['name'] for i in x]\n",
    "        #Check if more than 3 elements exist. If yes, return only first three. If no, return entire list.\n",
    "        if len(names) > 3:\n",
    "            names = names[:3]\n",
    "        return names\n",
    "\n",
    "    #Return empty list in case of missing data\n",
    "    return []"
   ]
  },
  {
   "cell_type": "code",
   "execution_count": 22,
   "metadata": {
    "pycharm": {
     "name": "#%%\n"
    }
   },
   "outputs": [],
   "source": [
    "# Define new director, cast, genres and keywords features that are in a suitable form.\n",
    "df_cleaned['director'] = df_cleaned['crew'].apply(get_director)\n",
    "\n",
    "features = ['cast', 'keywords', 'genres']\n",
    "for feature in features:\n",
    "    df_cleaned[feature] = df_cleaned[feature].apply(get_list)"
   ]
  },
  {
   "cell_type": "code",
   "execution_count": 23,
   "metadata": {
    "pycharm": {
     "name": "#%%\n"
    }
   },
   "outputs": [
    {
     "data": {
      "text/plain": "                             original_title  \\\n0                                    Avatar   \n1  Pirates of the Caribbean: At World's End   \n2                                   Spectre   \n\n                                               cast        director  \\\n0  [Sam Worthington, Zoe Saldana, Sigourney Weaver]   James Cameron   \n1     [Johnny Depp, Orlando Bloom, Keira Knightley]  Gore Verbinski   \n2      [Daniel Craig, Christoph Waltz, Léa Seydoux]      Sam Mendes   \n\n                              keywords                        genres  \n0   [culture clash, future, space war]  [Action, Adventure, Fantasy]  \n1   [ocean, drug abuse, exotic island]  [Adventure, Fantasy, Action]  \n2  [spy, based on novel, secret agent]    [Action, Adventure, Crime]  ",
      "text/html": "<div>\n<style scoped>\n    .dataframe tbody tr th:only-of-type {\n        vertical-align: middle;\n    }\n\n    .dataframe tbody tr th {\n        vertical-align: top;\n    }\n\n    .dataframe thead th {\n        text-align: right;\n    }\n</style>\n<table border=\"1\" class=\"dataframe\">\n  <thead>\n    <tr style=\"text-align: right;\">\n      <th></th>\n      <th>original_title</th>\n      <th>cast</th>\n      <th>director</th>\n      <th>keywords</th>\n      <th>genres</th>\n    </tr>\n  </thead>\n  <tbody>\n    <tr>\n      <th>0</th>\n      <td>Avatar</td>\n      <td>[Sam Worthington, Zoe Saldana, Sigourney Weaver]</td>\n      <td>James Cameron</td>\n      <td>[culture clash, future, space war]</td>\n      <td>[Action, Adventure, Fantasy]</td>\n    </tr>\n    <tr>\n      <th>1</th>\n      <td>Pirates of the Caribbean: At World's End</td>\n      <td>[Johnny Depp, Orlando Bloom, Keira Knightley]</td>\n      <td>Gore Verbinski</td>\n      <td>[ocean, drug abuse, exotic island]</td>\n      <td>[Adventure, Fantasy, Action]</td>\n    </tr>\n    <tr>\n      <th>2</th>\n      <td>Spectre</td>\n      <td>[Daniel Craig, Christoph Waltz, Léa Seydoux]</td>\n      <td>Sam Mendes</td>\n      <td>[spy, based on novel, secret agent]</td>\n      <td>[Action, Adventure, Crime]</td>\n    </tr>\n  </tbody>\n</table>\n</div>"
     },
     "execution_count": 23,
     "metadata": {},
     "output_type": "execute_result"
    }
   ],
   "source": [
    "df_cleaned[['original_title', 'cast', 'director', 'keywords', 'genres']].head(3)"
   ]
  },
  {
   "cell_type": "code",
   "execution_count": 24,
   "metadata": {
    "pycharm": {
     "name": "#%%\n"
    }
   },
   "outputs": [],
   "source": [
    "# Function to convert all strings to lower case and strip names of spaces\n",
    "def clean_data(x):\n",
    "    if isinstance(x, list):\n",
    "        return [str.lower(i.replace(\" \", \"\")) for i in x]\n",
    "    else:\n",
    "        #Check if director exists. If not, return empty string\n",
    "        if isinstance(x, str):\n",
    "            return str.lower(x.replace(\" \", \"\"))\n",
    "        else:\n",
    "            return ''"
   ]
  },
  {
   "cell_type": "code",
   "execution_count": 25,
   "metadata": {
    "pycharm": {
     "name": "#%%\n"
    }
   },
   "outputs": [],
   "source": [
    "# Apply clean_data function to your features.\n",
    "features = ['cast', 'keywords', 'director', 'genres']\n",
    "\n",
    "for feature in features:\n",
    "    df_cleaned[feature] = df_cleaned[feature].apply(clean_data)"
   ]
  },
  {
   "cell_type": "code",
   "execution_count": 26,
   "metadata": {
    "pycharm": {
     "name": "#%%\n"
    }
   },
   "outputs": [],
   "source": [
    "def create_soup(x):\n",
    "    return ' '.join(x['keywords']) + ' ' + ' '.join(x['cast']) + ' ' + x['director'] + ' ' + ' '.join(x['genres'])\n",
    "df_cleaned['soup'] = df_cleaned.apply(create_soup, axis=1)\n",
    "\n"
   ]
  },
  {
   "cell_type": "code",
   "execution_count": 27,
   "metadata": {
    "pycharm": {
     "name": "#%%\n"
    }
   },
   "outputs": [
    {
     "data": {
      "text/plain": "                             original_title  \\\n0                                    Avatar   \n1  Pirates of the Caribbean: At World's End   \n2                                   Spectre   \n\n                                                soup  \n0  cultureclash future spacewar samworthington zo...  \n1  ocean drugabuse exoticisland johnnydepp orland...  \n2  spy basedonnovel secretagent danielcraig chris...  ",
      "text/html": "<div>\n<style scoped>\n    .dataframe tbody tr th:only-of-type {\n        vertical-align: middle;\n    }\n\n    .dataframe tbody tr th {\n        vertical-align: top;\n    }\n\n    .dataframe thead th {\n        text-align: right;\n    }\n</style>\n<table border=\"1\" class=\"dataframe\">\n  <thead>\n    <tr style=\"text-align: right;\">\n      <th></th>\n      <th>original_title</th>\n      <th>soup</th>\n    </tr>\n  </thead>\n  <tbody>\n    <tr>\n      <th>0</th>\n      <td>Avatar</td>\n      <td>cultureclash future spacewar samworthington zo...</td>\n    </tr>\n    <tr>\n      <th>1</th>\n      <td>Pirates of the Caribbean: At World's End</td>\n      <td>ocean drugabuse exoticisland johnnydepp orland...</td>\n    </tr>\n    <tr>\n      <th>2</th>\n      <td>Spectre</td>\n      <td>spy basedonnovel secretagent danielcraig chris...</td>\n    </tr>\n  </tbody>\n</table>\n</div>"
     },
     "execution_count": 27,
     "metadata": {},
     "output_type": "execute_result"
    }
   ],
   "source": [
    "df_cleaned[['original_title','soup']].head(3)"
   ]
  },
  {
   "cell_type": "code",
   "execution_count": 28,
   "metadata": {
    "pycharm": {
     "name": "#%%\n"
    }
   },
   "outputs": [],
   "source": [
    "# Import CountVectorizer and create the count matrix\n",
    "from sklearn.feature_extraction.text import CountVectorizer\n",
    "\n",
    "count = CountVectorizer(stop_words='english')\n",
    "count_matrix = count.fit_transform(df_cleaned['soup'])"
   ]
  },
  {
   "cell_type": "code",
   "execution_count": 29,
   "metadata": {
    "pycharm": {
     "name": "#%%\n"
    }
   },
   "outputs": [],
   "source": [
    "# Compute the Cosine Similarity matrix based on the count_matrix\n",
    "from sklearn.metrics.pairwise import cosine_similarity\n",
    "\n",
    "cosine_sim2 = cosine_similarity(count_matrix, count_matrix)"
   ]
  },
  {
   "cell_type": "code",
   "execution_count": 30,
   "metadata": {
    "pycharm": {
     "name": "#%%\n"
    }
   },
   "outputs": [],
   "source": [
    "# Reset index of our main DataFrame and construct reverse mapping as before\n",
    "df2 = df_cleaned.reset_index()\n",
    "indices = pd.Series(df2.index, index=df2['original_title'])"
   ]
  },
  {
   "cell_type": "code",
   "execution_count": 31,
   "metadata": {
    "pycharm": {
     "name": "#%%\n"
    }
   },
   "outputs": [],
   "source": [
    "# Function that takes in movie title as input and outputs most similar movies\n",
    "def get_recommendations_2(title):\n",
    "    cosine_sim = cosine_similarity(count_matrix, count_matrix)\n",
    "    # Get the index of the movie that matches the title\n",
    "    idx = indices[title]\n",
    "\n",
    "    # Get the pairwsie similarity scores of all movies with that movie\n",
    "    sim_scores = list(enumerate(cosine_sim[idx]))\n",
    "\n",
    "    # Sort the movies based on the similarity scores\n",
    "    sim_scores = sorted(sim_scores, key=lambda x: x[1], reverse=True)\n",
    "\n",
    "    # Get the scores of the 10 most similar movies\n",
    "    sim_scores = sim_scores[1:11]\n",
    "\n",
    "    # Get the movie indices\n",
    "    movie_indices = [i[0] for i in sim_scores]\n",
    "\n",
    "    # Return the top 10 most similar movies\n",
    "    return df2['original_title'].iloc[movie_indices]"
   ]
  },
  {
   "cell_type": "code",
   "execution_count": 32,
   "outputs": [],
   "source": [
    "rec_2 = get_recommendations_2('The Dark Knight Rises')"
   ],
   "metadata": {
    "collapsed": false,
    "pycharm": {
     "name": "#%%\n"
    }
   }
  },
  {
   "cell_type": "code",
   "execution_count": 33,
   "outputs": [
    {
     "data": {
      "text/plain": "65               The Dark Knight\n119                Batman Begins\n4638    Amidst the Devil's Wings\n1196                The Prestige\n3073           Romeo Is Bleeding\n3326              Black November\n1503                      Takers\n1986                      Faster\n303                     Catwoman\n747               Gangster Squad\nName: original_title, dtype: object"
     },
     "execution_count": 33,
     "metadata": {},
     "output_type": "execute_result"
    }
   ],
   "source": [
    "rec_2"
   ],
   "metadata": {
    "collapsed": false,
    "pycharm": {
     "name": "#%%\n"
    }
   }
  },
  {
   "cell_type": "code",
   "execution_count": 34,
   "outputs": [],
   "source": [
    "def combine_recommendations(movie_title):\n",
    "    rec1 = give_recommendation(movie_title).to_list()\n",
    "    rec2 = get_recommendations_2(movie_title).to_list()\n",
    "    \n",
    "    print(\"Top 10 Recommendations Based on Summary Similarity: \")\n",
    "    print('\\n'.join(rec1))\n",
    "    print(\"------------------------------------------\")\n",
    "    print(\"Top 10 Recommendations Based on Genre, Keywords and Crew Similarity: \")\n",
    "    print('\\n'.join(rec2))\n",
    "    print(\"------------------------------------------\")\n",
    "    \n",
    "    \n",
    "    movies_scores = {}\n",
    "    for i, movie in enumerate(rec_1):\n",
    "        movies_scores[movie] = 10-i\n",
    "\n",
    "    for i, movie in enumerate(rec_2):\n",
    "        if movie in movies_scores:\n",
    "            movies_scores[movie] += (10-i)\n",
    "        else:\n",
    "            movies_scores[movie] = 10-i\n",
    "    # sort the dictionary:\n",
    "    movies_scores = sorted(movies_scores.items(), key=lambda x:x[1], reverse=True)\n",
    "    top_movies = [t[0] for t in movies_scores[:10]]\n",
    "    return  top_movies"
   ],
   "metadata": {
    "collapsed": false,
    "pycharm": {
     "name": "#%%\n"
    }
   }
  },
  {
   "cell_type": "code",
   "execution_count": 35,
   "outputs": [
    {
     "name": "stdout",
     "output_type": "stream",
     "text": [
      "Top 10 Recommendations Based on Summary Similarity: \n",
      "Batman Forever\n",
      "The Dark Knight\n",
      "Batman\n",
      "Batman Returns\n",
      "Slow Burn\n",
      "Batman Begins\n",
      "JFK\n",
      "Batman v Superman: Dawn of Justice\n",
      "Batman: The Dark Knight Returns, Part 2\n",
      "Batman & Robin\n",
      "------------------------------------------\n",
      "Top 10 Recommendations Based on Genre, Keywords and Crew Similarity: \n",
      "The Dark Knight\n",
      "Batman Begins\n",
      "Amidst the Devil's Wings\n",
      "The Prestige\n",
      "Romeo Is Bleeding\n",
      "Black November\n",
      "Takers\n",
      "Faster\n",
      "Catwoman\n",
      "Gangster Squad\n",
      "------------------------------------------\n"
     ]
    },
    {
     "data": {
      "text/plain": "['The Dark Knight',\n 'Batman Begins',\n 'Batman Forever',\n 'Batman',\n \"Amidst the Devil's Wings\",\n 'Batman Returns',\n 'The Prestige',\n 'Slow Burn',\n 'Romeo Is Bleeding',\n 'Black November']"
     },
     "execution_count": 35,
     "metadata": {},
     "output_type": "execute_result"
    }
   ],
   "source": [
    "combine_recommendations('The Dark Knight Rises')"
   ],
   "metadata": {
    "collapsed": false,
    "pycharm": {
     "name": "#%%\n"
    }
   }
  },
  {
   "cell_type": "code",
   "execution_count": 35,
   "metadata": {
    "pycharm": {
     "name": "#%%\n"
    }
   },
   "outputs": [],
   "source": []
  },
  {
   "cell_type": "code",
   "execution_count": 35,
   "metadata": {
    "pycharm": {
     "name": "#%%\n"
    }
   },
   "outputs": [],
   "source": []
  },
  {
   "cell_type": "code",
   "execution_count": 35,
   "metadata": {
    "pycharm": {
     "name": "#%%\n"
    }
   },
   "outputs": [],
   "source": []
  },
  {
   "cell_type": "code",
   "execution_count": 35,
   "metadata": {
    "pycharm": {
     "name": "#%%\n"
    }
   },
   "outputs": [],
   "source": []
  },
  {
   "cell_type": "code",
   "execution_count": 35,
   "metadata": {
    "pycharm": {
     "name": "#%%\n"
    }
   },
   "outputs": [],
   "source": []
  }
 ],
 "metadata": {
  "kernelspec": {
   "display_name": "Python 3 (ipykernel)",
   "language": "python",
   "name": "python3"
  },
  "language_info": {
   "codemirror_mode": {
    "name": "ipython",
    "version": 3
   },
   "file_extension": ".py",
   "mimetype": "text/x-python",
   "name": "python",
   "nbconvert_exporter": "python",
   "pygments_lexer": "ipython3",
   "version": "3.10.5"
  }
 },
 "nbformat": 4,
 "nbformat_minor": 1
}